{
  "nbformat": 4,
  "nbformat_minor": 0,
  "metadata": {
    "colab": {
      "provenance": [],
      "authorship_tag": "ABX9TyOLBVErKQjOoN1eVpXE2nA8",
      "include_colab_link": true
    },
    "kernelspec": {
      "name": "python3",
      "display_name": "Python 3"
    },
    "language_info": {
      "name": "python"
    }
  },
  "cells": [
    {
      "cell_type": "markdown",
      "metadata": {
        "id": "view-in-github",
        "colab_type": "text"
      },
      "source": [
        "<a href=\"https://colab.research.google.com/github/Praxis-QR/FDS/blob/main/ColabTurtle_ChangingShapes.ipynb\" target=\"_parent\"><img src=\"https://colab.research.google.com/assets/colab-badge.svg\" alt=\"Open In Colab\"/></a>"
      ]
    },
    {
      "cell_type": "markdown",
      "source": [
        "![alt text](https://github.com/Praxis-QR/RDWH/raw/main/images/YantraJaalBanner.png)<br>\n",
        "\n",
        "\n",
        "<hr>\n",
        "\n",
        "[Prithwis Mukerjee](http://www.linkedin.com/in/prithwis)<br>"
      ],
      "metadata": {
        "id": "O4Xd0pDpxvNc"
      }
    },
    {
      "cell_type": "code",
      "execution_count": 1,
      "metadata": {
        "id": "QXPD2pAc7cZP"
      },
      "outputs": [],
      "source": [
        "#!pip3 -q install ColabTurtle    # https://github.com/tolgaatam/ColabTurtle\n",
        "#from ColabTurtle.Turtle import *"
      ]
    },
    {
      "cell_type": "code",
      "source": [
        "#!ls /usr/local/lib/python3.12/dist-packages/ColabTurtle/\n",
        "#!cp /usr/local/lib/python3.12/dist-packages/ColabTurtle/Turtle.py ."
      ],
      "metadata": {
        "id": "FaaLSS4M7pZf"
      },
      "execution_count": 2,
      "outputs": []
    },
    {
      "cell_type": "code",
      "source": [],
      "metadata": {
        "id": "vXJycErB7sha"
      },
      "execution_count": 2,
      "outputs": []
    },
    {
      "cell_type": "code",
      "source": [
        "from pmTurtle import *"
      ],
      "metadata": {
        "colab": {
          "base_uri": "https://localhost:8080/"
        },
        "id": "w-sgj6EpbGst",
        "outputId": "d5d50952-162d-4dcd-e659-002d5a6f6c1b"
      },
      "execution_count": 3,
      "outputs": [
        {
          "output_type": "stream",
          "name": "stderr",
          "text": [
            "/content/pmTurtle.py:464: SyntaxWarning: invalid escape sequence '\\('\n",
            "  if re.search(\"rgb\\(\\s*(?:(?:\\d{1,2}|1\\d\\d|2(?:[0-4]\\d|5[0-5]))\\s*,?){3}\\)$\", color): # rgb color code\n"
          ]
        }
      ]
    },
    {
      "cell_type": "code",
      "source": [
        "initializeTurtle(initial_window_size=(800,350))\n",
        "shape(\"f1\")   # <-- switch to circle shape\n",
        "bgcolor('lightblue')\n",
        "color('coral')\n",
        "# --------------------\n",
        "forward(50)\n",
        "left(90)\n",
        "forward(100)\n",
        "left(90)\n",
        "forward(50)"
      ],
      "metadata": {
        "colab": {
          "base_uri": "https://localhost:8080/",
          "height": 371
        },
        "id": "n5jTMbHMbXlT",
        "outputId": "c82233e1-e063-4815-86ba-3f46758f88e3"
      },
      "execution_count": 4,
      "outputs": [
        {
          "output_type": "display_data",
          "data": {
            "text/plain": [
              "<IPython.core.display.HTML object>"
            ],
            "text/html": [
              "\n",
              "      <svg width=\"800\" height=\"350\">\n",
              "        <rect width=\"100%\" height=\"100%\" fill=\"lightblue\"/>\n",
              "        <line x1=\"400\" y1=\"175\" x2=\"400.0\" y2=\"125.0\" stroke-linecap=\"round\" style=\"stroke:coral;stroke-width:4\"/><line x1=\"400.0\" y1=\"125.0\" x2=\"300.0\" y2=\"125.0\" stroke-linecap=\"round\" style=\"stroke:coral;stroke-width:4\"/><line x1=\"300.0\" y1=\"125.0\" x2=\"300.0\" y2=\"175.0\" stroke-linecap=\"round\" style=\"stroke:coral;stroke-width:4\"/>\n",
              "        <g visibility=visible \n",
              "    transform=\"rotate(180,300.0,175.0) translate(300.0, 175.0)\">\n",
              "\n",
              "  <!-- central body -->\n",
              "  <rect x=\"-6\" y=\"-22\" width=\"12\" height=\"44\" \n",
              "        style=\"fill:coral;stroke:#000;stroke-width:1\"/>\n",
              "\n",
              "  <!-- front wing -->\n",
              "  <rect x=\"-20\" y=\"-24\" width=\"40\" height=\"4\" \n",
              "        style=\"fill:#333;stroke:#000;stroke-width:0.5\"/>\n",
              "\n",
              "  <!-- rear wing -->\n",
              "  <rect x=\"-16\" y=\"20\" width=\"32\" height=\"4\" \n",
              "        style=\"fill:#333;stroke:#000;stroke-width:0.5\"/>\n",
              "\n",
              "  <!-- cockpit -->\n",
              "  <ellipse cx=\"0\" cy=\"-5\" rx=\"5\" ry=\"7\" \n",
              "           style=\"fill:rgba(255,255,255,0.8);stroke:#000;stroke-width:0.5\"/>\n",
              "\n",
              "  <!-- wheels -->\n",
              "  <rect x=\"-18\" y=\"-20\" width=\"6\" height=\"10\" rx=\"2\" \n",
              "        style=\"fill:#111;stroke:#000;stroke-width:0.5\"/>\n",
              "  <rect x=\"12\"  y=\"-20\" width=\"6\" height=\"10\" rx=\"2\" \n",
              "        style=\"fill:#111;stroke:#000;stroke-width:0.5\"/>\n",
              "\n",
              "  <rect x=\"-18\" y=\"10\" width=\"6\" height=\"10\" rx=\"2\" \n",
              "        style=\"fill:#111;stroke:#000;stroke-width:0.5\"/>\n",
              "  <rect x=\"12\"  y=\"10\" width=\"6\" height=\"10\" rx=\"2\" \n",
              "        style=\"fill:#111;stroke:#000;stroke-width:0.5\"/>\n",
              "\n",
              "</g>\n",
              "      </svg>\n",
              "    "
            ]
          },
          "metadata": {}
        }
      ]
    },
    {
      "cell_type": "code",
      "source": [
        "initializeTurtle(initial_window_size=(800,350))\n",
        "shape(\"arrow\")   # <-- switch to circle shape\n",
        "bgcolor('lightblue')\n",
        "color('coral')\n",
        "# ------------------------------\n",
        "forward(50)\n",
        "left(90)\n",
        "forward(100)\n",
        "left(90)\n",
        "forward(50)"
      ],
      "metadata": {
        "colab": {
          "base_uri": "https://localhost:8080/",
          "height": 371
        },
        "id": "NOseyPQgeuSz",
        "outputId": "acf7ffea-041e-4723-85f6-3215a19fb9d7"
      },
      "execution_count": 5,
      "outputs": [
        {
          "output_type": "display_data",
          "data": {
            "text/plain": [
              "<IPython.core.display.HTML object>"
            ],
            "text/html": [
              "\n",
              "      <svg width=\"800\" height=\"350\">\n",
              "        <rect width=\"100%\" height=\"100%\" fill=\"lightblue\"/>\n",
              "        <line x1=\"400\" y1=\"175\" x2=\"400.0\" y2=\"125.0\" stroke-linecap=\"round\" style=\"stroke:coral;stroke-width:4\"/><line x1=\"400.0\" y1=\"125.0\" x2=\"300.0\" y2=\"125.0\" stroke-linecap=\"round\" style=\"stroke:coral;stroke-width:4\"/><line x1=\"300.0\" y1=\"125.0\" x2=\"300.0\" y2=\"175.0\" stroke-linecap=\"round\" style=\"stroke:coral;stroke-width:4\"/>\n",
              "        <g visibility=visible \n",
              "    transform=\"rotate(180,300.0,175.0) translate(300.0, 175.0)\">\n",
              "  <polygon points=\"0,-16 10,0 4,0 4,12 -4,12 -4,0 -10,0\"\n",
              "           style=\"fill:coral;stroke:coral;stroke-width:1\"/>\n",
              "</g>\n",
              "      </svg>\n",
              "    "
            ]
          },
          "metadata": {}
        }
      ]
    },
    {
      "cell_type": "code",
      "source": [
        "initializeTurtle(initial_window_size=(800,350))\n",
        "shape(\"monkey\")   # <-- switch to circle shape\n",
        "bgcolor('lightblue')\n",
        "color('coral')\n",
        "# ------------------------------\n",
        "forward(50)\n",
        "left(90)\n",
        "forward(100)\n",
        "left(90)\n",
        "forward(50)"
      ],
      "metadata": {
        "colab": {
          "base_uri": "https://localhost:8080/",
          "height": 371
        },
        "id": "cBCNbyfGh_Pz",
        "outputId": "ec323343-8c14-4edf-8760-b71eb3090719"
      },
      "execution_count": 6,
      "outputs": [
        {
          "output_type": "display_data",
          "data": {
            "text/plain": [
              "<IPython.core.display.HTML object>"
            ],
            "text/html": [
              "\n",
              "      <svg width=\"800\" height=\"350\">\n",
              "        <rect width=\"100%\" height=\"100%\" fill=\"lightblue\"/>\n",
              "        <line x1=\"400\" y1=\"175\" x2=\"400.0\" y2=\"125.0\" stroke-linecap=\"round\" style=\"stroke:coral;stroke-width:4\"/><line x1=\"400.0\" y1=\"125.0\" x2=\"300.0\" y2=\"125.0\" stroke-linecap=\"round\" style=\"stroke:coral;stroke-width:4\"/><line x1=\"300.0\" y1=\"125.0\" x2=\"300.0\" y2=\"175.0\" stroke-linecap=\"round\" style=\"stroke:coral;stroke-width:4\"/>\n",
              "        \n",
              "<g visibility=visible\n",
              "   transform=\"rotate(180,300.0,175.0) translate(300.0, 175.0)\">\n",
              "  <!-- Hair (black, covering top and sides, NOT chin) -->\n",
              "  <path d=\"M -16,-5 \n",
              "           Q 0,-25 16,-5 \n",
              "           Q 14,8 8,14 \n",
              "           Q 0,20 -8,14 \n",
              "           Q -14,8 -16,-5 Z\"\n",
              "        fill=\"black\" stroke=\"black\" stroke-width=\"1\"/>\n",
              "\n",
              "  <!-- Face -->\n",
              "  <circle cx=\"0\" cy=\"0\" r=\"12\" fill=\"#FFD1A9\" stroke=\"coral\" stroke-width=\"2\"/>\n",
              "\n",
              "  <!-- Eyes -->\n",
              "  <circle cx=\"-4\" cy=\"-3\" r=\"2\" fill=\"black\"/>\n",
              "  <circle cx=\"4\" cy=\"-3\" r=\"2\" fill=\"black\"/>\n",
              "\n",
              "  <!-- Smile -->\n",
              "  <path d=\"M -5,4 Q 0,10 5,4\" stroke=\"black\" stroke-width=\"2\" fill=\"none\"/>\n",
              "</g>\n",
              "\n",
              "      </svg>\n",
              "    "
            ]
          },
          "metadata": {}
        }
      ]
    },
    {
      "cell_type": "code",
      "source": [
        "initializeTurtle(initial_window_size=(800,350))\n",
        "shape(\"circle\")   # <-- switch to circle shape\n",
        "bgcolor('lightblue')\n",
        "color('coral')\n",
        "# ------------------------------\n",
        "forward(50)\n",
        "left(90)\n",
        "forward(100)\n",
        "left(90)\n",
        "forward(50)"
      ],
      "metadata": {
        "colab": {
          "base_uri": "https://localhost:8080/",
          "height": 371
        },
        "id": "tRrUgdnLwVLm",
        "outputId": "36a8584d-4fd6-4154-a7c4-c270d3163baa"
      },
      "execution_count": 7,
      "outputs": [
        {
          "output_type": "display_data",
          "data": {
            "text/plain": [
              "<IPython.core.display.HTML object>"
            ],
            "text/html": [
              "\n",
              "      <svg width=\"800\" height=\"350\">\n",
              "        <rect width=\"100%\" height=\"100%\" fill=\"lightblue\"/>\n",
              "        <line x1=\"400\" y1=\"175\" x2=\"400.0\" y2=\"125.0\" stroke-linecap=\"round\" style=\"stroke:coral;stroke-width:4\"/><line x1=\"400.0\" y1=\"125.0\" x2=\"300.0\" y2=\"125.0\" stroke-linecap=\"round\" style=\"stroke:coral;stroke-width:4\"/><line x1=\"300.0\" y1=\"125.0\" x2=\"300.0\" y2=\"175.0\" stroke-linecap=\"round\" style=\"stroke:coral;stroke-width:4\"/>\n",
              "        \n",
              "      <g visibility=visible transform=\"rotate(0,300.0,175.0) translate(300.0, 175.0)\">\n",
              "        <circle stroke=\"coral\" stroke-width=\"3\" fill=\"transparent\" r=\"12\" cx=\"0\" cy=\"0\"/>\n",
              "        <polygon points=\"0,19 3,16 -3,16\" style=\"fill:coral;stroke:coral;stroke-width:2\"/>\n",
              "      </g>\n",
              "    \n",
              "      </svg>\n",
              "    "
            ]
          },
          "metadata": {}
        }
      ]
    },
    {
      "cell_type": "code",
      "source": [
        "initializeTurtle(initial_window_size=(800,350))\n",
        "#shape(\"monkey\")   # <-- switch to circle shape\n",
        "bgcolor('lightblue')\n",
        "color('coral')\n",
        "# ------------------------------\n",
        "forward(50)\n",
        "left(90)\n",
        "forward(100)\n",
        "left(90)\n",
        "forward(50)"
      ],
      "metadata": {
        "colab": {
          "base_uri": "https://localhost:8080/",
          "height": 371
        },
        "id": "rbX4vUiHwZwq",
        "outputId": "4b5ca628-1895-4aa3-fbe8-4c97fa345917"
      },
      "execution_count": 8,
      "outputs": [
        {
          "output_type": "display_data",
          "data": {
            "text/plain": [
              "<IPython.core.display.HTML object>"
            ],
            "text/html": [
              "\n",
              "      <svg width=\"800\" height=\"350\">\n",
              "        <rect width=\"100%\" height=\"100%\" fill=\"lightblue\"/>\n",
              "        <line x1=\"400\" y1=\"175\" x2=\"400.0\" y2=\"125.0\" stroke-linecap=\"round\" style=\"stroke:coral;stroke-width:4\"/><line x1=\"400.0\" y1=\"125.0\" x2=\"300.0\" y2=\"125.0\" stroke-linecap=\"round\" style=\"stroke:coral;stroke-width:4\"/><line x1=\"300.0\" y1=\"125.0\" x2=\"300.0\" y2=\"175.0\" stroke-linecap=\"round\" style=\"stroke:coral;stroke-width:4\"/>\n",
              "        <g visibility=visible transform=\"rotate(180,300.0,175.0) translate(282.0, 157.0)\">\n",
              "<path style=\" stroke:none;fill-rule:evenodd;fill:coral;fill-opacity:1;\" d=\"M 18.214844 0.632812 C 16.109375 1.800781 15.011719 4.074219 15.074219 7.132812 L 15.085938 7.652344 L 14.785156 7.496094 C 13.476562 6.824219 11.957031 6.671875 10.40625 7.066406 C 8.46875 7.550781 6.515625 9.15625 4.394531 11.992188 C 3.0625 13.777344 2.679688 14.636719 3.042969 15.027344 L 3.15625 15.152344 L 3.519531 15.152344 C 4.238281 15.152344 4.828125 14.886719 8.1875 13.039062 C 9.386719 12.378906 10.371094 11.839844 10.378906 11.839844 C 10.386719 11.839844 10.355469 11.929688 10.304688 12.035156 C 9.832031 13.09375 9.257812 14.820312 8.96875 16.078125 C 7.914062 20.652344 8.617188 24.53125 11.070312 27.660156 C 11.351562 28.015625 11.363281 27.914062 10.972656 28.382812 C 8.925781 30.84375 7.945312 33.28125 8.238281 35.1875 C 8.289062 35.527344 8.28125 35.523438 8.917969 35.523438 C 10.941406 35.523438 13.074219 34.207031 15.136719 31.6875 C 15.359375 31.417969 15.328125 31.425781 15.5625 31.574219 C 16.292969 32.042969 18.023438 32.964844 18.175781 32.964844 C 18.335938 32.964844 19.941406 32.210938 20.828125 31.71875 C 20.996094 31.625 21.136719 31.554688 21.136719 31.558594 C 21.203125 31.664062 21.898438 32.414062 22.222656 32.730469 C 23.835938 34.300781 25.5625 35.132812 27.582031 35.300781 C 27.90625 35.328125 27.9375 35.308594 28.007812 34.984375 C 28.382812 33.242188 27.625 30.925781 25.863281 28.425781 L 25.542969 27.96875 L 25.699219 27.785156 C 28.945312 23.960938 29.132812 18.699219 26.257812 11.96875 L 26.207031 11.84375 L 27.945312 12.703125 C 31.53125 14.476562 32.316406 14.800781 33.03125 14.800781 C 33.976562 14.800781 33.78125 13.9375 32.472656 12.292969 C 28.519531 7.355469 25.394531 5.925781 21.921875 7.472656 L 21.558594 7.636719 L 21.578125 7.542969 C 21.699219 6.992188 21.761719 5.742188 21.699219 5.164062 C 21.496094 3.296875 20.664062 1.964844 19.003906 0.855469 C 18.480469 0.503906 18.457031 0.5 18.214844 0.632812\"/>\n",
              "</g>\n",
              "      </svg>\n",
              "    "
            ]
          },
          "metadata": {}
        }
      ]
    },
    {
      "cell_type": "markdown",
      "source": [
        "#Chronobooks <br>\n",
        "Three science fiction novels by Prithwis Mukerjee. A dystopian Earth. A technocratic society managed by artificial intelligence. Escape and epiphany on Mars. Can man and machine, carbon and silicon explore and escape into other dimensions of existence? An Indic perspective rooted in Advaita Vedanta and the Divine Feminine.  [More information](http://bit.ly/chrono3) <br>\n",
        "![alt text](https://blogger.googleusercontent.com/img/a/AVvXsEjsZufX_KYaLwAnJP6bUxvDg5RSPn6r8HIZe749nLWX3RuwyshrYEAUpdw03a9WIWRdnzA9epwJOE05eDJ0Ad7kGyfWiUrC2vNuOskb2jA-e8aOZSx8YqzT8mfZi3E4X1Rz3qlEAiv-aTxlCM976BEeTjx4J64ctY3C_FoV4v9aY_U23F8xRqI5Eg=s1600)"
      ],
      "metadata": {
        "id": "FXzg-Q4Kx1Hd"
      }
    }
  ]
}