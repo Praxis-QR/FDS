{
  "nbformat": 4,
  "nbformat_minor": 0,
  "metadata": {
    "colab": {
      "provenance": [],
      "authorship_tag": "ABX9TyNm/1ILeyO4tpbge1Pn6+Sf",
      "include_colab_link": true
    },
    "kernelspec": {
      "name": "python3",
      "display_name": "Python 3"
    },
    "language_info": {
      "name": "python"
    }
  },
  "cells": [
    {
      "cell_type": "markdown",
      "metadata": {
        "id": "view-in-github",
        "colab_type": "text"
      },
      "source": [
        "<a href=\"https://colab.research.google.com/github/Praxis-QR/FDS/blob/main/ColabTurtle_ChangingShapes.ipynb\" target=\"_parent\"><img src=\"https://colab.research.google.com/assets/colab-badge.svg\" alt=\"Open In Colab\"/></a>"
      ]
    },
    {
      "cell_type": "markdown",
      "source": [
        "![alt text](https://github.com/Praxis-QR/RDWH/raw/main/images/YantraJaalBanner.png)<br>\n",
        "\n",
        "\n",
        "<hr>\n",
        "\n",
        "[Prithwis Mukerjee](http://www.linkedin.com/in/prithwis)<br>"
      ],
      "metadata": {
        "id": "O4Xd0pDpxvNc"
      }
    },
    {
      "cell_type": "code",
      "execution_count": 1,
      "metadata": {
        "id": "QXPD2pAc7cZP"
      },
      "outputs": [],
      "source": [
        "#!pip3 -q install ColabTurtle    # https://github.com/tolgaatam/ColabTurtle\n",
        "#from ColabTurtle.Turtle import *"
      ]
    },
    {
      "cell_type": "code",
      "source": [
        "#!ls /usr/local/lib/python3.12/dist-packages/ColabTurtle/\n",
        "#!cp /usr/local/lib/python3.12/dist-packages/ColabTurtle/Turtle.py ."
      ],
      "metadata": {
        "id": "FaaLSS4M7pZf"
      },
      "execution_count": 2,
      "outputs": []
    },
    {
      "cell_type": "code",
      "source": [
        "!wget https://raw.githubusercontent.com/Praxis-QR/FDS/refs/heads/main/TurtleShapes.py"
      ],
      "metadata": {
        "id": "vXJycErB7sha",
        "outputId": "40f42683-fc1c-4974-e8f4-2abb0eca0de0",
        "colab": {
          "base_uri": "https://localhost:8080/"
        }
      },
      "execution_count": 3,
      "outputs": [
        {
          "output_type": "stream",
          "name": "stdout",
          "text": [
            "--2025-09-03 10:07:28--  https://raw.githubusercontent.com/Praxis-QR/FDS/refs/heads/main/TurtleShapes.py\n",
            "Resolving raw.githubusercontent.com (raw.githubusercontent.com)... 185.199.108.133, 185.199.109.133, 185.199.110.133, ...\n",
            "Connecting to raw.githubusercontent.com (raw.githubusercontent.com)|185.199.108.133|:443... connected.\n",
            "HTTP request sent, awaiting response... 200 OK\n",
            "Length: 29036 (28K) [text/plain]\n",
            "Saving to: ‘TurtleShapes.py’\n",
            "\n",
            "TurtleShapes.py     100%[===================>]  28.36K  --.-KB/s    in 0.001s  \n",
            "\n",
            "2025-09-03 10:07:29 (19.0 MB/s) - ‘TurtleShapes.py’ saved [29036/29036]\n",
            "\n"
          ]
        }
      ]
    },
    {
      "cell_type": "code",
      "source": [
        "from TurtleShapes import *"
      ],
      "metadata": {
        "colab": {
          "base_uri": "https://localhost:8080/"
        },
        "id": "w-sgj6EpbGst",
        "outputId": "2508aa59-02df-4465-d3f6-46b0661c8830"
      },
      "execution_count": 4,
      "outputs": [
        {
          "output_type": "stream",
          "name": "stderr",
          "text": [
            "/content/TurtleShapes.py:553: SyntaxWarning: invalid escape sequence '\\('\n",
            "  if re.search(\"rgb\\(\\s*(?:(?:\\d{1,2}|1\\d\\d|2(?:[0-4]\\d|5[0-5]))\\s*,?){3}\\)$\", color): # rgb color code\n"
          ]
        }
      ]
    },
    {
      "cell_type": "code",
      "source": [
        "initializeTurtle(initial_window_size=(800,350))\n",
        "shape(\"f1\")   # <-- switch to circle shape\n",
        "bgcolor('lightblue')\n",
        "color('coral')\n",
        "# --------------------\n",
        "forward(50)\n",
        "left(90)\n",
        "forward(100)\n",
        "left(90)\n",
        "forward(50)"
      ],
      "metadata": {
        "colab": {
          "base_uri": "https://localhost:8080/",
          "height": 371
        },
        "id": "n5jTMbHMbXlT",
        "outputId": "9a3d6c87-e058-4d7e-85b3-f12f150b08ff"
      },
      "execution_count": 5,
      "outputs": [
        {
          "output_type": "display_data",
          "data": {
            "text/plain": [
              "<IPython.core.display.HTML object>"
            ],
            "text/html": [
              "\n",
              "      <svg width=\"800\" height=\"350\">\n",
              "        <rect width=\"100%\" height=\"100%\" fill=\"lightblue\"/>\n",
              "        <line x1=\"400\" y1=\"175\" x2=\"400.0\" y2=\"125.0\" stroke-linecap=\"round\" style=\"stroke:coral;stroke-width:4\"/><line x1=\"400.0\" y1=\"125.0\" x2=\"300.0\" y2=\"125.0\" stroke-linecap=\"round\" style=\"stroke:coral;stroke-width:4\"/><line x1=\"300.0\" y1=\"125.0\" x2=\"300.0\" y2=\"175.0\" stroke-linecap=\"round\" style=\"stroke:coral;stroke-width:4\"/>\n",
              "        <g visibility=visible \n",
              "    transform=\"rotate(180,300.0,175.0) translate(300.0, 175.0)\">\n",
              "\n",
              "  <!-- central body -->\n",
              "  <rect x=\"-6\" y=\"-22\" width=\"12\" height=\"44\" \n",
              "        style=\"fill:coral;stroke:#000;stroke-width:1\"/>\n",
              "\n",
              "  <!-- front wing -->\n",
              "  <rect x=\"-20\" y=\"-24\" width=\"40\" height=\"4\" \n",
              "        style=\"fill:#333;stroke:#000;stroke-width:0.5\"/>\n",
              "\n",
              "  <!-- rear wing -->\n",
              "  <rect x=\"-16\" y=\"20\" width=\"32\" height=\"4\" \n",
              "        style=\"fill:#333;stroke:#000;stroke-width:0.5\"/>\n",
              "\n",
              "  <!-- cockpit -->\n",
              "  <ellipse cx=\"0\" cy=\"-5\" rx=\"5\" ry=\"7\" \n",
              "           style=\"fill:rgba(255,255,255,0.8);stroke:#000;stroke-width:0.5\"/>\n",
              "\n",
              "  <!-- wheels -->\n",
              "  <rect x=\"-18\" y=\"-20\" width=\"6\" height=\"10\" rx=\"2\" \n",
              "        style=\"fill:#111;stroke:#000;stroke-width:0.5\"/>\n",
              "  <rect x=\"12\"  y=\"-20\" width=\"6\" height=\"10\" rx=\"2\" \n",
              "        style=\"fill:#111;stroke:#000;stroke-width:0.5\"/>\n",
              "\n",
              "  <rect x=\"-18\" y=\"10\" width=\"6\" height=\"10\" rx=\"2\" \n",
              "        style=\"fill:#111;stroke:#000;stroke-width:0.5\"/>\n",
              "  <rect x=\"12\"  y=\"10\" width=\"6\" height=\"10\" rx=\"2\" \n",
              "        style=\"fill:#111;stroke:#000;stroke-width:0.5\"/>\n",
              "\n",
              "</g>\n",
              "      </svg>\n",
              "    "
            ]
          },
          "metadata": {}
        }
      ]
    },
    {
      "cell_type": "code",
      "source": [
        "initializeTurtle(initial_window_size=(800,350))\n",
        "shape(\"arrow\")   # <-- switch to circle shape\n",
        "bgcolor('lightblue')\n",
        "color('coral')\n",
        "# ------------------------------\n",
        "forward(50)\n",
        "left(90)\n",
        "forward(100)\n",
        "left(90)\n",
        "forward(50)"
      ],
      "metadata": {
        "colab": {
          "base_uri": "https://localhost:8080/",
          "height": 371
        },
        "id": "NOseyPQgeuSz",
        "outputId": "81ae7007-f020-4965-a585-9d1eb4e7546d"
      },
      "execution_count": 6,
      "outputs": [
        {
          "output_type": "display_data",
          "data": {
            "text/plain": [
              "<IPython.core.display.HTML object>"
            ],
            "text/html": [
              "\n",
              "      <svg width=\"800\" height=\"350\">\n",
              "        <rect width=\"100%\" height=\"100%\" fill=\"lightblue\"/>\n",
              "        <line x1=\"400\" y1=\"175\" x2=\"400.0\" y2=\"125.0\" stroke-linecap=\"round\" style=\"stroke:coral;stroke-width:4\"/><line x1=\"400.0\" y1=\"125.0\" x2=\"300.0\" y2=\"125.0\" stroke-linecap=\"round\" style=\"stroke:coral;stroke-width:4\"/><line x1=\"300.0\" y1=\"125.0\" x2=\"300.0\" y2=\"175.0\" stroke-linecap=\"round\" style=\"stroke:coral;stroke-width:4\"/>\n",
              "        <g visibility=visible \n",
              "    transform=\"rotate(180,300.0,175.0) translate(300.0, 175.0)\">\n",
              "  <polygon points=\"0,-16 10,0 4,0 4,12 -4,12 -4,0 -10,0\"\n",
              "           style=\"fill:coral;stroke:coral;stroke-width:1\"/>\n",
              "</g>\n",
              "      </svg>\n",
              "    "
            ]
          },
          "metadata": {}
        }
      ]
    },
    {
      "cell_type": "code",
      "source": [
        "initializeTurtle(initial_window_size=(800,350))\n",
        "shape(\"monkey\")   # <-- switch to circle shape\n",
        "bgcolor('lightblue')\n",
        "color('coral')\n",
        "# ------------------------------\n",
        "forward(50)\n",
        "left(90)\n",
        "forward(100)\n",
        "left(90)\n",
        "forward(50)"
      ],
      "metadata": {
        "colab": {
          "base_uri": "https://localhost:8080/",
          "height": 371
        },
        "id": "cBCNbyfGh_Pz",
        "outputId": "bd379af9-8dde-4e6e-c4d0-8009108736cb"
      },
      "execution_count": 7,
      "outputs": [
        {
          "output_type": "display_data",
          "data": {
            "text/plain": [
              "<IPython.core.display.HTML object>"
            ],
            "text/html": [
              "\n",
              "      <svg width=\"800\" height=\"350\">\n",
              "        <rect width=\"100%\" height=\"100%\" fill=\"lightblue\"/>\n",
              "        <line x1=\"400\" y1=\"175\" x2=\"400.0\" y2=\"125.0\" stroke-linecap=\"round\" style=\"stroke:coral;stroke-width:4\"/><line x1=\"400.0\" y1=\"125.0\" x2=\"300.0\" y2=\"125.0\" stroke-linecap=\"round\" style=\"stroke:coral;stroke-width:4\"/><line x1=\"300.0\" y1=\"125.0\" x2=\"300.0\" y2=\"175.0\" stroke-linecap=\"round\" style=\"stroke:coral;stroke-width:4\"/>\n",
              "        \n",
              "<g visibility=visible\n",
              "   transform=\"rotate(180,300.0,175.0) translate(300.0, 175.0)\">\n",
              "  <!-- Hair (black, covering top and sides, NOT chin) -->\n",
              "  <path d=\"M -16,-5 \n",
              "           Q 0,-25 16,-5 \n",
              "           Q 14,8 8,14 \n",
              "           Q 0,20 -8,14 \n",
              "           Q -14,8 -16,-5 Z\"\n",
              "        fill=\"black\" stroke=\"black\" stroke-width=\"1\"/>\n",
              "\n",
              "  <!-- Face -->\n",
              "  <circle cx=\"0\" cy=\"0\" r=\"12\" fill=\"#FFD1A9\" stroke=\"coral\" stroke-width=\"2\"/>\n",
              "\n",
              "  <!-- Eyes -->\n",
              "  <circle cx=\"-4\" cy=\"-3\" r=\"2\" fill=\"black\"/>\n",
              "  <circle cx=\"4\" cy=\"-3\" r=\"2\" fill=\"black\"/>\n",
              "\n",
              "  <!-- Smile -->\n",
              "  <path d=\"M -5,4 Q 0,10 5,4\" stroke=\"black\" stroke-width=\"2\" fill=\"none\"/>\n",
              "</g>\n",
              "\n",
              "      </svg>\n",
              "    "
            ]
          },
          "metadata": {}
        }
      ]
    },
    {
      "cell_type": "code",
      "source": [
        "initializeTurtle(initial_window_size=(800,350))\n",
        "shape(\"circle\")   # <-- switch to circle shape\n",
        "bgcolor('lightblue')\n",
        "color('coral')\n",
        "# ------------------------------\n",
        "forward(50)\n",
        "left(90)\n",
        "forward(100)\n",
        "left(90)\n",
        "forward(50)"
      ],
      "metadata": {
        "colab": {
          "base_uri": "https://localhost:8080/",
          "height": 371
        },
        "id": "tRrUgdnLwVLm",
        "outputId": "d5aba3e0-4d2c-46f6-daf4-2d4bcccab3cb"
      },
      "execution_count": 8,
      "outputs": [
        {
          "output_type": "display_data",
          "data": {
            "text/plain": [
              "<IPython.core.display.HTML object>"
            ],
            "text/html": [
              "\n",
              "      <svg width=\"800\" height=\"350\">\n",
              "        <rect width=\"100%\" height=\"100%\" fill=\"lightblue\"/>\n",
              "        <line x1=\"400\" y1=\"175\" x2=\"400.0\" y2=\"125.0\" stroke-linecap=\"round\" style=\"stroke:coral;stroke-width:4\"/><line x1=\"400.0\" y1=\"125.0\" x2=\"300.0\" y2=\"125.0\" stroke-linecap=\"round\" style=\"stroke:coral;stroke-width:4\"/><line x1=\"300.0\" y1=\"125.0\" x2=\"300.0\" y2=\"175.0\" stroke-linecap=\"round\" style=\"stroke:coral;stroke-width:4\"/>\n",
              "        \n",
              "      <g visibility=visible transform=\"rotate(0,300.0,175.0) translate(300.0, 175.0)\">\n",
              "        <circle stroke=\"coral\" stroke-width=\"3\" fill=\"transparent\" r=\"12\" cx=\"0\" cy=\"0\"/>\n",
              "        <polygon points=\"0,19 3,16 -3,16\" style=\"fill:coral;stroke:coral;stroke-width:2\"/>\n",
              "      </g>\n",
              "    \n",
              "      </svg>\n",
              "    "
            ]
          },
          "metadata": {}
        }
      ]
    },
    {
      "cell_type": "code",
      "source": [
        "initializeTurtle(initial_window_size=(800,350))\n",
        "shape(\"woman\")   # <-- switch to circle shape\n",
        "bgcolor('lightblue')\n",
        "color('coral')\n",
        "# ------------------------------\n",
        "forward(50)\n",
        "left(90)\n",
        "forward(100)\n",
        "left(90)\n",
        "forward(50)"
      ],
      "metadata": {
        "id": "T0WU2Mrc-9LH",
        "outputId": "afd96ac7-729f-40e5-87c8-94a83cd9d5ee",
        "colab": {
          "base_uri": "https://localhost:8080/",
          "height": 371
        }
      },
      "execution_count": 9,
      "outputs": [
        {
          "output_type": "display_data",
          "data": {
            "text/plain": [
              "<IPython.core.display.HTML object>"
            ],
            "text/html": [
              "\n",
              "      <svg width=\"800\" height=\"350\">\n",
              "        <rect width=\"100%\" height=\"100%\" fill=\"lightblue\"/>\n",
              "        <line x1=\"400\" y1=\"175\" x2=\"400.0\" y2=\"125.0\" stroke-linecap=\"round\" style=\"stroke:coral;stroke-width:4\"/><line x1=\"400.0\" y1=\"125.0\" x2=\"300.0\" y2=\"125.0\" stroke-linecap=\"round\" style=\"stroke:coral;stroke-width:4\"/><line x1=\"300.0\" y1=\"125.0\" x2=\"300.0\" y2=\"175.0\" stroke-linecap=\"round\" style=\"stroke:coral;stroke-width:4\"/>\n",
              "        \n",
              "<g visibility=visible\n",
              "   transform=\"rotate(180,300.0,175.0) translate(282.0, 157.0)\">\n",
              "  <!-- Hair (changed to black) -->\n",
              "  <path fill=\"black\" d=\"M18 3c6 0 16 3 16 16s0 16-3 16-7-3-13-3-9.915 3-13 3c-3.343 0-3-12-3-16C2 6 12 3 18 3z\"/>\n",
              "  \n",
              "  <!-- Face -->\n",
              "  <path fill=\"#FFDC5D\" d=\"M6 18.562c0-8.526 5.373-15.438 12-15.438s12 6.912 12 15.438S24.627 34 18 34 6 27.088 6 18.562z\"/>\n",
              "  \n",
              "  <!-- Mouth -->\n",
              "  <path fill=\"#DF1F32\" d=\"M18 30c-2.347 0-3.575-1.16-3.707-1.293-.391-.391-.391-1.023 0-1.414.387-.387 1.013-.39 1.404-.01.051.047.806.717 2.303.717 1.519 0 2.273-.69 2.305-.719.398-.373 1.027-.362 1.408.029.379.393.38 1.011-.006 1.397C21.575 28.84 20.347 30 18 30z\"/>\n",
              "  \n",
              "  <!-- Nose -->\n",
              "  <path fill=\"#C1694F\" d=\"M19 25h-2c-.552 0-1-.447-1-1s.448-1 1-1h2c.553 0 1 .447 1 1s-.447 1-1 1z\"/>\n",
              "  \n",
              "  <!-- Hair top shading (changed to black) -->\n",
              "  <path fill=\"black\" d=\"M3.064 24c-.03-.325-.064-.647-.064-1 0-5 3 .562 3-3 0-3.563 2-4 4-6l3-3s5 3 9 3 8 2 8 6 3-2 3 3c0 .355-.033.673-.058 1h1.049C34 22.523 34 20.868 34 19 34 6 24 1 18 1S2 6 2 19c0 1.158-.028 2.986.012 5h1.052z\"/>\n",
              "  \n",
              "  <!-- Eyes -->\n",
              "  <path d=\"M13 22c-.552 0-1-.447-1-1v-2c0-.552.448-1 1-1s1 .448 1 1v2c0 .553-.448 1-1 1zm10 0c-.553 0-1-.447-1-1v-2c0-.552.447-1 1-1s1 .448 1 1v2c0 .553-.447 1-1 1z\" fill=\"#662113\"/>\n",
              "</g>\n",
              "\n",
              "      </svg>\n",
              "    "
            ]
          },
          "metadata": {}
        }
      ]
    },
    {
      "cell_type": "code",
      "source": [
        "initializeTurtle(initial_window_size=(800,350))\n",
        "#shape(\"monkey\")   # <-- switch to circle shape\n",
        "bgcolor('lightblue')\n",
        "color('coral')\n",
        "# ------------------------------\n",
        "forward(50)\n",
        "left(90)\n",
        "forward(100)\n",
        "left(90)\n",
        "forward(50)"
      ],
      "metadata": {
        "colab": {
          "base_uri": "https://localhost:8080/",
          "height": 371
        },
        "id": "rbX4vUiHwZwq",
        "outputId": "a97bd522-9865-47a8-837f-42cc2c5e39fd"
      },
      "execution_count": 10,
      "outputs": [
        {
          "output_type": "display_data",
          "data": {
            "text/plain": [
              "<IPython.core.display.HTML object>"
            ],
            "text/html": [
              "\n",
              "      <svg width=\"800\" height=\"350\">\n",
              "        <rect width=\"100%\" height=\"100%\" fill=\"lightblue\"/>\n",
              "        <line x1=\"400\" y1=\"175\" x2=\"400.0\" y2=\"125.0\" stroke-linecap=\"round\" style=\"stroke:coral;stroke-width:4\"/><line x1=\"400.0\" y1=\"125.0\" x2=\"300.0\" y2=\"125.0\" stroke-linecap=\"round\" style=\"stroke:coral;stroke-width:4\"/><line x1=\"300.0\" y1=\"125.0\" x2=\"300.0\" y2=\"175.0\" stroke-linecap=\"round\" style=\"stroke:coral;stroke-width:4\"/>\n",
              "        <g visibility=visible transform=\"rotate(180,300.0,175.0) translate(282.0, 157.0)\">\n",
              "<path style=\" stroke:none;fill-rule:evenodd;fill:coral;fill-opacity:1;\" d=\"M 18.214844 0.632812 C 16.109375 1.800781 15.011719 4.074219 15.074219 7.132812 L 15.085938 7.652344 L 14.785156 7.496094 C 13.476562 6.824219 11.957031 6.671875 10.40625 7.066406 C 8.46875 7.550781 6.515625 9.15625 4.394531 11.992188 C 3.0625 13.777344 2.679688 14.636719 3.042969 15.027344 L 3.15625 15.152344 L 3.519531 15.152344 C 4.238281 15.152344 4.828125 14.886719 8.1875 13.039062 C 9.386719 12.378906 10.371094 11.839844 10.378906 11.839844 C 10.386719 11.839844 10.355469 11.929688 10.304688 12.035156 C 9.832031 13.09375 9.257812 14.820312 8.96875 16.078125 C 7.914062 20.652344 8.617188 24.53125 11.070312 27.660156 C 11.351562 28.015625 11.363281 27.914062 10.972656 28.382812 C 8.925781 30.84375 7.945312 33.28125 8.238281 35.1875 C 8.289062 35.527344 8.28125 35.523438 8.917969 35.523438 C 10.941406 35.523438 13.074219 34.207031 15.136719 31.6875 C 15.359375 31.417969 15.328125 31.425781 15.5625 31.574219 C 16.292969 32.042969 18.023438 32.964844 18.175781 32.964844 C 18.335938 32.964844 19.941406 32.210938 20.828125 31.71875 C 20.996094 31.625 21.136719 31.554688 21.136719 31.558594 C 21.203125 31.664062 21.898438 32.414062 22.222656 32.730469 C 23.835938 34.300781 25.5625 35.132812 27.582031 35.300781 C 27.90625 35.328125 27.9375 35.308594 28.007812 34.984375 C 28.382812 33.242188 27.625 30.925781 25.863281 28.425781 L 25.542969 27.96875 L 25.699219 27.785156 C 28.945312 23.960938 29.132812 18.699219 26.257812 11.96875 L 26.207031 11.84375 L 27.945312 12.703125 C 31.53125 14.476562 32.316406 14.800781 33.03125 14.800781 C 33.976562 14.800781 33.78125 13.9375 32.472656 12.292969 C 28.519531 7.355469 25.394531 5.925781 21.921875 7.472656 L 21.558594 7.636719 L 21.578125 7.542969 C 21.699219 6.992188 21.761719 5.742188 21.699219 5.164062 C 21.496094 3.296875 20.664062 1.964844 19.003906 0.855469 C 18.480469 0.503906 18.457031 0.5 18.214844 0.632812\"/>\n",
              "</g>\n",
              "      </svg>\n",
              "    "
            ]
          },
          "metadata": {}
        }
      ]
    },
    {
      "cell_type": "code",
      "source": [
        "initializeTurtle(initial_window_size=(800,350))\n",
        "shape(\"sedan\")   # <-- switch to circle shape\n",
        "bgcolor('lightblue')\n",
        "color('green')\n",
        "# ------------------------------\n",
        "forward(50)\n",
        "left(90)\n",
        "forward(100)\n",
        "left(90)\n",
        "forward(50)"
      ],
      "metadata": {
        "id": "KXv7W-tg_NbY",
        "outputId": "5f0f9f3c-ba78-40f2-89dd-373350aa722e",
        "colab": {
          "base_uri": "https://localhost:8080/",
          "height": 371
        }
      },
      "execution_count": 11,
      "outputs": [
        {
          "output_type": "display_data",
          "data": {
            "text/plain": [
              "<IPython.core.display.HTML object>"
            ],
            "text/html": [
              "\n",
              "      <svg width=\"800\" height=\"350\">\n",
              "        <rect width=\"100%\" height=\"100%\" fill=\"lightblue\"/>\n",
              "        <line x1=\"400\" y1=\"175\" x2=\"400.0\" y2=\"125.0\" stroke-linecap=\"round\" style=\"stroke:green;stroke-width:4\"/><line x1=\"400.0\" y1=\"125.0\" x2=\"300.0\" y2=\"125.0\" stroke-linecap=\"round\" style=\"stroke:green;stroke-width:4\"/><line x1=\"300.0\" y1=\"125.0\" x2=\"300.0\" y2=\"175.0\" stroke-linecap=\"round\" style=\"stroke:green;stroke-width:4\"/>\n",
              "        \n",
              "<g visibility=visible\n",
              "   transform=\"rotate(180,300.0,175.0) translate(282.0, 157.0)\">\n",
              "   <!-- Sedan Top View -->\n",
              "   <svg xmlns=\"http://www.w3.org/2000/svg\" viewBox=\"0 0 358.85 789.36\" width=\"45\" height=\"45\">\n",
              "     \n",
              "     <!-- Wheels -->\n",
              "     <rect fill=\"#60585a\" x=\"16.287\" y=\"623.04\" width=\"27.775\" height=\"78.696\" rx=\"8.58\" ry=\"8.58\"/>\n",
              "     <rect fill=\"#60585a\" x=\"311.29\" y=\"613.04\" width=\"27.775\" height=\"78.696\" rx=\"8.58\" ry=\"8.58\"/>\n",
              "     <rect fill=\"#60585a\" x=\"318.79\" y=\"98.038\" width=\"27.775\" height=\"78.696\" rx=\"8.58\" ry=\"8.58\"/>\n",
              "     <rect fill=\"#60585a\" x=\"8.633\"  y=\"101.12\" width=\"27.775\" height=\"78.696\" rx=\"8.58\" ry=\"8.58\"/>\n",
              "\n",
              "     <!-- Body (blue) -->\n",
              "     <path d=\"M178.73 782.98c-113.07 2.362-130.4-17.92-147.11-21.261-16.705-38.776-19.877-365.73-9.855-392.46\n",
              "              7.493-60.54-4.936-70.565-8.687-143.53-7.14-85.213 9.815-37.829-4.439-124.48\n",
              "              21.658-90.216-19.136-92.053 168.52-100.63 172.21 2.401 147.96 10.415 169.61 100.63\n",
              "              -14.254 86.652 2.701 39.268-4.439 124.48-3.751 72.961-16.18 82.986-8.687 143.53\n",
              "              10.022 26.727 6.85 353.68-9.855 392.46-26.153 15.153-95.459 21.261-145.07 21.261z\"\n",
              "           fill=\"#1e3a8a\" stroke=\"#000\" stroke-width=\"1\"/>\n",
              "\n",
              "     <!-- Roof (orange) -->\n",
              "     <path d=\"M37.198 44.521c-11.667 18.667-10.816 196.22 7.851 210.22\n",
              "              18.03-14.851 122.48-28.646 142.34-27.364\n",
              "              20.288-1.492 99.694 8.055 124.09 22.697\n",
              "              6.577 2.13 19.727-205.55 1.059-219.55\n",
              "              -58.34-16.344-252.01-16.344-275.34 13.99z\"\n",
              "           fill=\"#f97316\" stroke=\"#000\" stroke-width=\"1\"/>\n",
              "\n",
              "     <!-- Glass areas -->\n",
              "     <!-- Front windshield -->\n",
              "     <rect x=\"90\" y=\"70\" width=\"180\" height=\"80\"\n",
              "           fill=\"#93c5fd\" fill-opacity=\"0.7\" stroke=\"black\" stroke-width=\"0.5\" rx=\"10\" ry=\"10\"/>\n",
              "     <!-- Rear windshield -->\n",
              "     <rect x=\"100\" y=\"640\" width=\"160\" height=\"70\"\n",
              "           fill=\"#93c5fd\" fill-opacity=\"0.7\" stroke=\"black\" stroke-width=\"0.5\" rx=\"10\" ry=\"10\"/>\n",
              "     <!-- Left side windows -->\n",
              "     <rect x=\"55\" y=\"200\" width=\"40\" height=\"300\"\n",
              "           fill=\"#93c5fd\" fill-opacity=\"0.7\" stroke=\"black\" stroke-width=\"0.5\" rx=\"6\" ry=\"6\"/>\n",
              "     <!-- Right side windows -->\n",
              "     <rect x=\"265\" y=\"200\" width=\"40\" height=\"300\"\n",
              "           fill=\"#93c5fd\" fill-opacity=\"0.7\" stroke=\"black\" stroke-width=\"0.5\" rx=\"6\" ry=\"6\"/>\n",
              "\n",
              "   </svg>\n",
              "</g>\n",
              "\n",
              "      </svg>\n",
              "    "
            ]
          },
          "metadata": {}
        }
      ]
    },
    {
      "cell_type": "code",
      "source": [
        "print(VALID_COLORS )"
      ],
      "metadata": {
        "id": "DK1S6L_4_rBz",
        "outputId": "e125f681-13d3-4f4f-8aa8-4500315b7efa",
        "colab": {
          "base_uri": "https://localhost:8080/"
        }
      },
      "execution_count": 12,
      "outputs": [
        {
          "output_type": "stream",
          "name": "stdout",
          "text": [
            "('black', 'navy', 'darkblue', 'mediumblue', 'blue', 'darkgreen', 'green', 'teal', 'darkcyan', 'deepskyblue', 'darkturquoise', 'mediumspringgreen', 'lime', 'springgreen', 'aqua', 'cyan', 'midnightblue', 'dodgerblue', 'lightseagreen', 'forestgreen', 'seagreen', 'darkslategray', 'darkslategrey', 'limegreen', 'mediumseagreen', 'turquoise', 'royalblue', 'steelblue', 'darkslateblue', 'mediumturquoise', 'indigo', 'darkolivegreen', 'cadetblue', 'cornflowerblue', 'rebeccapurple', 'mediumaquamarine', 'dimgray', 'dimgrey', 'slateblue', 'olivedrab', 'slategray', 'slategrey', 'lightslategray', 'lightslategrey', 'mediumslateblue', 'lawngreen', 'chartreuse', 'aquamarine', 'maroon', 'purple', 'olive', 'gray', 'grey', 'skyblue', 'lightskyblue', 'blueviolet', 'darkred', 'darkmagenta', 'saddlebrown', 'darkseagreen', 'lightgreen', 'mediumpurple', 'darkviolet', 'palegreen', 'darkorchid', 'yellowgreen', 'sienna', 'brown', 'darkgray', 'darkgrey', 'lightblue', 'greenyellow', 'paleturquoise', 'lightsteelblue', 'powderblue', 'firebrick', 'darkgoldenrod', 'mediumorchid', 'rosybrown', 'darkkhaki', 'silver', 'mediumvioletred', 'indianred', 'peru', 'chocolate', 'tan', 'lightgray', 'lightgrey', 'thistle', 'orchid', 'goldenrod', 'palevioletred', 'crimson', 'gainsboro', 'plum', 'burlywood', 'lightcyan', 'lavender', 'darksalmon', 'violet', 'palegoldenrod', 'lightcoral', 'khaki', 'aliceblue', 'honeydew', 'azure', 'sandybrown', 'wheat', 'beige', 'whitesmoke', 'mintcream', 'ghostwhite', 'salmon', 'antiquewhite', 'linen', 'lightgoldenrodyellow', 'oldlace', 'red', 'fuchsia', 'magenta', 'deeppink', 'orangered', 'tomato', 'hotpink', 'coral', 'darkorange', 'lightsalmon', 'orange', 'lightpink', 'pink', 'gold', 'peachpuff', 'navajowhite', 'moccasin', 'bisque', 'mistyrose', 'blanchedalmond', 'papayawhip', 'lavenderblush', 'seashell', 'cornsilk', 'lemonchiffon', 'floralwhite', 'snow', 'yellow', 'lightyellow', 'ivory', 'white')\n"
          ]
        }
      ]
    },
    {
      "cell_type": "markdown",
      "source": [
        "#Chronobooks <br>\n",
        "Three science fiction novels by Prithwis Mukerjee. A dystopian Earth. A technocratic society managed by artificial intelligence. Escape and epiphany on Mars. Can man and machine, carbon and silicon explore and escape into other dimensions of existence? An Indic perspective rooted in Advaita Vedanta and the Divine Feminine.  [More information](http://bit.ly/chrono3) <br>\n",
        "![alt text](https://blogger.googleusercontent.com/img/a/AVvXsEjsZufX_KYaLwAnJP6bUxvDg5RSPn6r8HIZe749nLWX3RuwyshrYEAUpdw03a9WIWRdnzA9epwJOE05eDJ0Ad7kGyfWiUrC2vNuOskb2jA-e8aOZSx8YqzT8mfZi3E4X1Rz3qlEAiv-aTxlCM976BEeTjx4J64ctY3C_FoV4v9aY_U23F8xRqI5Eg=s1600)"
      ],
      "metadata": {
        "id": "FXzg-Q4Kx1Hd"
      }
    }
  ]
}